{
 "cells": [
  {
   "cell_type": "markdown",
   "metadata": {},
   "source": [
    "## Data exploration\n",
    "In this Jupyter Notebook, I am importing and exploring a dataset titled census-tracts-2012.zip. This data shows statisical areas defined by the Census Bureau. When conducting data exploration, I will comment on my steps and preliminary findings using commands learned in class."
   ]
  },
  {
   "cell_type": "code",
   "execution_count": 47,
   "metadata": {},
   "outputs": [],
   "source": [
    "# import module that can work with spatial data\n",
    "import geopandas as gpd"
   ]
  },
  {
   "cell_type": "markdown",
   "metadata": {},
   "source": [
    "### Explanation #1\n",
    "Below, I am importing the dataset Natural_Areas_and_Wildlife_Sanctuaries.csv using geopandas and creating the variable Natural_Areas_and_Wildlife_Sanctuaries."
   ]
  },
  {
   "cell_type": "code",
   "execution_count": 63,
   "metadata": {},
   "outputs": [],
   "source": [
    "# import data\n",
    "Natural_Areas_and_Wildlife_Sanctuaries = gpd.read_file('Natural_Areas_and_Wildlife_Sanctuaries.csv')"
   ]
  },
  {
   "cell_type": "markdown",
   "metadata": {},
   "source": [
    "### Explanation #2\n",
    "Below, I am using the 'type' command to give me an output showing the type of dataframe I am working with."
   ]
  },
  {
   "cell_type": "code",
   "execution_count": 64,
   "metadata": {},
   "outputs": [
    {
     "data": {
      "text/plain": [
       "geopandas.geodataframe.GeoDataFrame"
      ]
     },
     "execution_count": 64,
     "metadata": {},
     "output_type": "execute_result"
    }
   ],
   "source": [
    "# use 'type' command to show what data I'm working with\n",
    "type(Natural_Areas_and_Wildlife_Sanctuaries)"
   ]
  },
  {
   "cell_type": "markdown",
   "metadata": {},
   "source": [
    "#### Output #1\n",
    "The GeoDataFram means this is a spatial data frame"
   ]
  },
  {
   "cell_type": "markdown",
   "metadata": {},
   "source": [
    "### Explanation #3\n",
    "Below, I use the .head() command to show me the first five rows of the data frame and thus see what the data look like."
   ]
  },
  {
   "cell_type": "code",
   "execution_count": 65,
   "metadata": {},
   "outputs": [
    {
     "data": {
      "text/html": [
       "<div>\n",
       "<style scoped>\n",
       "    .dataframe tbody tr th:only-of-type {\n",
       "        vertical-align: middle;\n",
       "    }\n",
       "\n",
       "    .dataframe tbody tr th {\n",
       "        vertical-align: top;\n",
       "    }\n",
       "\n",
       "    .dataframe thead th {\n",
       "        text-align: right;\n",
       "    }\n",
       "</style>\n",
       "<table border=\"1\" class=\"dataframe\">\n",
       "  <thead>\n",
       "    <tr style=\"text-align: right;\">\n",
       "      <th></th>\n",
       "      <th>X</th>\n",
       "      <th>Y</th>\n",
       "      <th>OBJECTID</th>\n",
       "      <th>source</th>\n",
       "      <th>ext_id</th>\n",
       "      <th>cat1</th>\n",
       "      <th>cat2</th>\n",
       "      <th>cat3</th>\n",
       "      <th>org_name</th>\n",
       "      <th>Name</th>\n",
       "      <th>...</th>\n",
       "      <th>link</th>\n",
       "      <th>use_type</th>\n",
       "      <th>latitude</th>\n",
       "      <th>longitude</th>\n",
       "      <th>date_updated</th>\n",
       "      <th>email</th>\n",
       "      <th>dis_status</th>\n",
       "      <th>POINT_X</th>\n",
       "      <th>POINT_Y</th>\n",
       "      <th>geometry</th>\n",
       "    </tr>\n",
       "  </thead>\n",
       "  <tbody>\n",
       "    <tr>\n",
       "      <th>0</th>\n",
       "      <td>-118.318033276342</td>\n",
       "      <td>33.7160851173573</td>\n",
       "      <td>1685</td>\n",
       "      <td>LA County Department of Beaches and Harbors</td>\n",
       "      <td></td>\n",
       "      <td>Arts and Recreation</td>\n",
       "      <td>Natural Areas and Wildlife Sanctuaries</td>\n",
       "      <td></td>\n",
       "      <td>Los Angeles County Department of Beaches and H...</td>\n",
       "      <td>White Point - Royal Palms</td>\n",
       "      <td>...</td>\n",
       "      <td>http://egis3.lacounty.gov/lms/?p=1408</td>\n",
       "      <td>publish</td>\n",
       "      <td>33.71608515</td>\n",
       "      <td>-118.31803322</td>\n",
       "      <td>2017/07/31 11:13:44+00</td>\n",
       "      <td>info@bh.lacounty.gov</td>\n",
       "      <td></td>\n",
       "      <td>6464947.30226839</td>\n",
       "      <td>1719209.57465315</td>\n",
       "      <td>None</td>\n",
       "    </tr>\n",
       "    <tr>\n",
       "      <th>1</th>\n",
       "      <td>-118.247371936167</td>\n",
       "      <td>33.9901414367707</td>\n",
       "      <td>1753</td>\n",
       "      <td>LA City Recreation and Parks</td>\n",
       "      <td></td>\n",
       "      <td>Arts and Recreation</td>\n",
       "      <td>Natural Areas and Wildlife Sanctuaries</td>\n",
       "      <td></td>\n",
       "      <td>LA City Department Recreation and Parks</td>\n",
       "      <td>Augustus F. Hawkins Natural Park</td>\n",
       "      <td>...</td>\n",
       "      <td>http://egis3.lacounty.gov/lms/?p=1915</td>\n",
       "      <td>publish</td>\n",
       "      <td>33.99014147</td>\n",
       "      <td>-118.24737188</td>\n",
       "      <td>2014/07/01 11:21:18+00</td>\n",
       "      <td></td>\n",
       "      <td></td>\n",
       "      <td>6486682.83983397</td>\n",
       "      <td>1818884.90450156</td>\n",
       "      <td>None</td>\n",
       "    </tr>\n",
       "    <tr>\n",
       "      <th>2</th>\n",
       "      <td>-118.488877055797</td>\n",
       "      <td>34.0766209666739</td>\n",
       "      <td>2018</td>\n",
       "      <td>211</td>\n",
       "      <td></td>\n",
       "      <td>Arts and Recreation</td>\n",
       "      <td>Natural Areas and Wildlife Sanctuaries</td>\n",
       "      <td>Open Space</td>\n",
       "      <td>www.laparks.org/dos.htm</td>\n",
       "      <td>Crestwood Hills Park</td>\n",
       "      <td>...</td>\n",
       "      <td>http://egis3.lacounty.gov/lms/?p=2168</td>\n",
       "      <td>publish</td>\n",
       "      <td>34.076621</td>\n",
       "      <td>-118.488877</td>\n",
       "      <td>2014/06/10 13:12:41+00</td>\n",
       "      <td></td>\n",
       "      <td></td>\n",
       "      <td>6413627.2785963</td>\n",
       "      <td>1850624.25867364</td>\n",
       "      <td>None</td>\n",
       "    </tr>\n",
       "    <tr>\n",
       "      <th>3</th>\n",
       "      <td>-117.859710557835</td>\n",
       "      <td>34.4145850167122</td>\n",
       "      <td>13024</td>\n",
       "      <td>Current Services Locator</td>\n",
       "      <td></td>\n",
       "      <td>Arts and Recreation</td>\n",
       "      <td>Natural Areas and Wildlife Sanctuaries</td>\n",
       "      <td></td>\n",
       "      <td>US Geological Survey (USGS)</td>\n",
       "      <td>Devil's Punchbowl Natural Area</td>\n",
       "      <td>...</td>\n",
       "      <td>http://egis3.lacounty.gov/lms/?p=13497</td>\n",
       "      <td>publish</td>\n",
       "      <td>34.41458505</td>\n",
       "      <td>-117.8597105</td>\n",
       "      <td>2012/10/23 09:05:40+00</td>\n",
       "      <td></td>\n",
       "      <td></td>\n",
       "      <td>6603981.66265056</td>\n",
       "      <td>1973285.20298381</td>\n",
       "      <td>None</td>\n",
       "    </tr>\n",
       "    <tr>\n",
       "      <th>4</th>\n",
       "      <td>-118.44019180587</td>\n",
       "      <td>33.979488416678</td>\n",
       "      <td>13048</td>\n",
       "      <td>LA County Department of Beaches and Harbors</td>\n",
       "      <td></td>\n",
       "      <td>Arts and Recreation</td>\n",
       "      <td>Natural Areas and Wildlife Sanctuaries</td>\n",
       "      <td></td>\n",
       "      <td>Los Angeles County Department of Beaches and H...</td>\n",
       "      <td>Marina Del Rey Visitors Information Center</td>\n",
       "      <td>...</td>\n",
       "      <td>http://egis3.lacounty.gov/lms/?p=13521</td>\n",
       "      <td>publish</td>\n",
       "      <td>33.97948845</td>\n",
       "      <td>-118.44019175</td>\n",
       "      <td>2017/07/20 07:59:42+00</td>\n",
       "      <td>info@bh.lacounty.gov</td>\n",
       "      <td></td>\n",
       "      <td>6428215.37901323</td>\n",
       "      <td>1815207.99190789</td>\n",
       "      <td>None</td>\n",
       "    </tr>\n",
       "  </tbody>\n",
       "</table>\n",
       "<p>5 rows × 32 columns</p>\n",
       "</div>"
      ],
      "text/plain": [
       "                   X                 Y OBJECTID  \\\n",
       "0  -118.318033276342  33.7160851173573     1685   \n",
       "1  -118.247371936167  33.9901414367707     1753   \n",
       "2  -118.488877055797  34.0766209666739     2018   \n",
       "3  -117.859710557835  34.4145850167122    13024   \n",
       "4   -118.44019180587   33.979488416678    13048   \n",
       "\n",
       "                                        source ext_id                 cat1  \\\n",
       "0  LA County Department of Beaches and Harbors         Arts and Recreation   \n",
       "1                 LA City Recreation and Parks         Arts and Recreation   \n",
       "2                                          211         Arts and Recreation   \n",
       "3                     Current Services Locator         Arts and Recreation   \n",
       "4  LA County Department of Beaches and Harbors         Arts and Recreation   \n",
       "\n",
       "                                     cat2        cat3  \\\n",
       "0  Natural Areas and Wildlife Sanctuaries               \n",
       "1  Natural Areas and Wildlife Sanctuaries               \n",
       "2  Natural Areas and Wildlife Sanctuaries  Open Space   \n",
       "3  Natural Areas and Wildlife Sanctuaries               \n",
       "4  Natural Areas and Wildlife Sanctuaries               \n",
       "\n",
       "                                            org_name  \\\n",
       "0  Los Angeles County Department of Beaches and H...   \n",
       "1            LA City Department Recreation and Parks   \n",
       "2                            www.laparks.org/dos.htm   \n",
       "3                        US Geological Survey (USGS)   \n",
       "4  Los Angeles County Department of Beaches and H...   \n",
       "\n",
       "                                         Name  ...  \\\n",
       "0                   White Point - Royal Palms  ...   \n",
       "1            Augustus F. Hawkins Natural Park  ...   \n",
       "2                        Crestwood Hills Park  ...   \n",
       "3              Devil's Punchbowl Natural Area  ...   \n",
       "4  Marina Del Rey Visitors Information Center  ...   \n",
       "\n",
       "                                     link use_type     latitude  \\\n",
       "0   http://egis3.lacounty.gov/lms/?p=1408  publish  33.71608515   \n",
       "1   http://egis3.lacounty.gov/lms/?p=1915  publish  33.99014147   \n",
       "2   http://egis3.lacounty.gov/lms/?p=2168  publish    34.076621   \n",
       "3  http://egis3.lacounty.gov/lms/?p=13497  publish  34.41458505   \n",
       "4  http://egis3.lacounty.gov/lms/?p=13521  publish  33.97948845   \n",
       "\n",
       "       longitude            date_updated                 email dis_status  \\\n",
       "0  -118.31803322  2017/07/31 11:13:44+00  info@bh.lacounty.gov              \n",
       "1  -118.24737188  2014/07/01 11:21:18+00                                    \n",
       "2    -118.488877  2014/06/10 13:12:41+00                                    \n",
       "3   -117.8597105  2012/10/23 09:05:40+00                                    \n",
       "4  -118.44019175  2017/07/20 07:59:42+00  info@bh.lacounty.gov              \n",
       "\n",
       "            POINT_X           POINT_Y geometry  \n",
       "0  6464947.30226839  1719209.57465315     None  \n",
       "1  6486682.83983397  1818884.90450156     None  \n",
       "2   6413627.2785963  1850624.25867364     None  \n",
       "3  6603981.66265056  1973285.20298381     None  \n",
       "4  6428215.37901323  1815207.99190789     None  \n",
       "\n",
       "[5 rows x 32 columns]"
      ]
     },
     "execution_count": 65,
     "metadata": {},
     "output_type": "execute_result"
    }
   ],
   "source": [
    "# what does the data look like?\n",
    "Natural_Areas_and_Wildlife_Sanctuaries.head()"
   ]
  },
  {
   "cell_type": "markdown",
   "metadata": {},
   "source": [
    "#### Output #2\n",
    "The output of this operation provides the first 5 rows of the data frame Natural_Areas_and_Wildlife_Sanctuaries."
   ]
  },
  {
   "cell_type": "markdown",
   "metadata": {},
   "source": [
    "### Explanation #4\n",
    "Below, I use the .info() command to present more detailed information about the data."
   ]
  },
  {
   "cell_type": "code",
   "execution_count": 66,
   "metadata": {},
   "outputs": [
    {
     "name": "stdout",
     "output_type": "stream",
     "text": [
      "<class 'geopandas.geodataframe.GeoDataFrame'>\n",
      "RangeIndex: 167 entries, 0 to 166\n",
      "Data columns (total 32 columns):\n",
      " #   Column        Non-Null Count  Dtype   \n",
      "---  ------        --------------  -----   \n",
      " 0   X             167 non-null    object  \n",
      " 1   Y             167 non-null    object  \n",
      " 2   OBJECTID      167 non-null    object  \n",
      " 3   source        167 non-null    object  \n",
      " 4   ext_id        167 non-null    object  \n",
      " 5   cat1          167 non-null    object  \n",
      " 6   cat2          167 non-null    object  \n",
      " 7   cat3          167 non-null    object  \n",
      " 8   org_name      167 non-null    object  \n",
      " 9   Name          167 non-null    object  \n",
      " 10  addrln1       167 non-null    object  \n",
      " 11  addrln2       167 non-null    object  \n",
      " 12  city          167 non-null    object  \n",
      " 13  state         167 non-null    object  \n",
      " 14  hours         167 non-null    object  \n",
      " 15  phones        167 non-null    object  \n",
      " 16  url           167 non-null    object  \n",
      " 17  info1         167 non-null    object  \n",
      " 18  info2         167 non-null    object  \n",
      " 19  post_id       167 non-null    object  \n",
      " 20  description   167 non-null    object  \n",
      " 21  zip           167 non-null    object  \n",
      " 22  link          167 non-null    object  \n",
      " 23  use_type      167 non-null    object  \n",
      " 24  latitude      167 non-null    object  \n",
      " 25  longitude     167 non-null    object  \n",
      " 26  date_updated  167 non-null    object  \n",
      " 27  email         167 non-null    object  \n",
      " 28  dis_status    167 non-null    object  \n",
      " 29  POINT_X       167 non-null    object  \n",
      " 30  POINT_Y       167 non-null    object  \n",
      " 31  geometry      0 non-null      geometry\n",
      "dtypes: geometry(1), object(31)\n",
      "memory usage: 41.9+ KB\n"
     ]
    }
   ],
   "source": [
    "# use .info() to learn more about the data\n",
    "Natural_Areas_and_Wildlife_Sanctuaries.info()"
   ]
  },
  {
   "cell_type": "markdown",
   "metadata": {},
   "source": [
    "#### Output #3\n",
    "This output reveals more information about the data at hand, such as the data types (one geometry and 31 objects). It also tells me there are a total of 167 entries and 32 columns, and the names of the columns."
   ]
  },
  {
   "cell_type": "markdown",
   "metadata": {},
   "source": [
    "### Explanation #5\n",
    "Below, I use the command '.shape' to learn specific information about my data, such as how many rows and columns are there?"
   ]
  },
  {
   "cell_type": "code",
   "execution_count": 67,
   "metadata": {},
   "outputs": [
    {
     "data": {
      "text/plain": [
       "(167, 32)"
      ]
     },
     "execution_count": 67,
     "metadata": {},
     "output_type": "execute_result"
    }
   ],
   "source": [
    "# use '.shape' command to learn how many columns and rows there are\n",
    "Natural_Areas_and_Wildlife_Sanctuaries.shape"
   ]
  },
  {
   "cell_type": "markdown",
   "metadata": {},
   "source": [
    "#### Output #4\n",
    "This operation clearly shows there are 167 rows and 32 columns in the dataset"
   ]
  },
  {
   "cell_type": "markdown",
   "metadata": {},
   "source": [
    "### Explanation #6\n",
    "Below, I use the command  .columns.to_list() to show the names of the columns in a list format."
   ]
  },
  {
   "cell_type": "code",
   "execution_count": 68,
   "metadata": {},
   "outputs": [
    {
     "data": {
      "text/plain": [
       "['X',\n",
       " 'Y',\n",
       " 'OBJECTID',\n",
       " 'source',\n",
       " 'ext_id',\n",
       " 'cat1',\n",
       " 'cat2',\n",
       " 'cat3',\n",
       " 'org_name',\n",
       " 'Name',\n",
       " 'addrln1',\n",
       " 'addrln2',\n",
       " 'city',\n",
       " 'state',\n",
       " 'hours',\n",
       " 'phones',\n",
       " 'url',\n",
       " 'info1',\n",
       " 'info2',\n",
       " 'post_id',\n",
       " 'description',\n",
       " 'zip',\n",
       " 'link',\n",
       " 'use_type',\n",
       " 'latitude',\n",
       " 'longitude',\n",
       " 'date_updated',\n",
       " 'email',\n",
       " 'dis_status',\n",
       " 'POINT_X',\n",
       " 'POINT_Y',\n",
       " 'geometry']"
      ]
     },
     "execution_count": 68,
     "metadata": {},
     "output_type": "execute_result"
    }
   ],
   "source": [
    "# use .columns.to_list() for the names of columns in list format\n",
    "Natural_Areas_and_Wildlife_Sanctuaries.columns.to_list()"
   ]
  },
  {
   "cell_type": "markdown",
   "metadata": {},
   "source": [
    "#### Output #5\n",
    "The output of this operation gave me the names of all 32 columns and presented them as a list."
   ]
  },
  {
   "cell_type": "markdown",
   "metadata": {},
   "source": [
    "### Explanation #7\n",
    "Below, I use the .value_counts() argument to give me the number of natural areas and wildlife sanctuaries for each Califorrnia city listed"
   ]
  },
  {
   "cell_type": "code",
   "execution_count": 69,
   "metadata": {},
   "outputs": [
    {
     "data": {
      "text/plain": [
       "                         86\n",
       "Los Angeles              38\n",
       "Malibu                    6\n",
       "Long Beach                5\n",
       "Pearblossom               4\n",
       "Antelope Valley           3\n",
       "Marina Del Rey            2\n",
       "San Pedro                 2\n",
       "Llano                     2\n",
       "Lake Los Angeles          2\n",
       "Rancho Palos Verdes       1\n",
       "Irwindale                 1\n",
       "Tujunga                   1\n",
       "Palmdale                  1\n",
       "Acton                     1\n",
       "South El Monte            1\n",
       "Rolling Hills Estates     1\n",
       "Pasadena                  1\n",
       "Fairmont                  1\n",
       "Agua Dulce                1\n",
       "Arcadia                   1\n",
       "Palos Verdes              1\n",
       "Avalon                    1\n",
       "Newhall                   1\n",
       "Castaic                   1\n",
       "Lancaster                 1\n",
       "San Dimas                 1\n",
       "Name: city, dtype: int64"
      ]
     },
     "execution_count": 69,
     "metadata": {},
     "output_type": "execute_result"
    }
   ],
   "source": [
    "# Use .value_counts() to get the number of natural areas and wildlife sanctuaries by CA city\n",
    "Natural_Areas_and_Wildlife_Sanctuaries['city'].value_counts()"
   ]
  },
  {
   "cell_type": "markdown",
   "metadata": {},
   "source": [
    "#### Output #6\n",
    "This output shows the number of native areas and wildlife sanctuaries in each California city listed"
   ]
  },
  {
   "cell_type": "markdown",
   "metadata": {},
   "source": [
    "### Explanation #8\n",
    "Below, I save the above operation's result as a variable 'city_count' to be able to do more with it in the future such as plot it or create a bar chart."
   ]
  },
  {
   "cell_type": "code",
   "execution_count": 70,
   "metadata": {},
   "outputs": [
    {
     "data": {
      "text/plain": [
       "                         86\n",
       "Los Angeles              38\n",
       "Malibu                    6\n",
       "Long Beach                5\n",
       "Pearblossom               4\n",
       "Antelope Valley           3\n",
       "Marina Del Rey            2\n",
       "San Pedro                 2\n",
       "Llano                     2\n",
       "Lake Los Angeles          2\n",
       "Rancho Palos Verdes       1\n",
       "Irwindale                 1\n",
       "Tujunga                   1\n",
       "Palmdale                  1\n",
       "Acton                     1\n",
       "South El Monte            1\n",
       "Rolling Hills Estates     1\n",
       "Pasadena                  1\n",
       "Fairmont                  1\n",
       "Agua Dulce                1\n",
       "Arcadia                   1\n",
       "Palos Verdes              1\n",
       "Avalon                    1\n",
       "Newhall                   1\n",
       "Castaic                   1\n",
       "Lancaster                 1\n",
       "San Dimas                 1\n",
       "Name: city, dtype: int64"
      ]
     },
     "execution_count": 70,
     "metadata": {},
     "output_type": "execute_result"
    }
   ],
   "source": [
    "# save it as a variable\n",
    "city_count = Natural_Areas_and_Wildlife_Sanctuaries['city'].value_counts()\n",
    "city_count"
   ]
  },
  {
   "cell_type": "markdown",
   "metadata": {},
   "source": [
    "#### Output #7\n",
    "This output looks the same as the previous operation but it is now stored in the new variable 'city_count'. "
   ]
  },
  {
   "cell_type": "markdown",
   "metadata": {},
   "source": [
    "### Explanation #9\n",
    "Below, I will convert the data from above into an actual data frame."
   ]
  },
  {
   "cell_type": "code",
   "execution_count": 71,
   "metadata": {},
   "outputs": [
    {
     "data": {
      "text/html": [
       "<div>\n",
       "<style scoped>\n",
       "    .dataframe tbody tr th:only-of-type {\n",
       "        vertical-align: middle;\n",
       "    }\n",
       "\n",
       "    .dataframe tbody tr th {\n",
       "        vertical-align: top;\n",
       "    }\n",
       "\n",
       "    .dataframe thead th {\n",
       "        text-align: right;\n",
       "    }\n",
       "</style>\n",
       "<table border=\"1\" class=\"dataframe\">\n",
       "  <thead>\n",
       "    <tr style=\"text-align: right;\">\n",
       "      <th></th>\n",
       "      <th>index</th>\n",
       "      <th>city</th>\n",
       "    </tr>\n",
       "  </thead>\n",
       "  <tbody>\n",
       "    <tr>\n",
       "      <th>0</th>\n",
       "      <td></td>\n",
       "      <td>86</td>\n",
       "    </tr>\n",
       "    <tr>\n",
       "      <th>1</th>\n",
       "      <td>Los Angeles</td>\n",
       "      <td>38</td>\n",
       "    </tr>\n",
       "    <tr>\n",
       "      <th>2</th>\n",
       "      <td>Malibu</td>\n",
       "      <td>6</td>\n",
       "    </tr>\n",
       "    <tr>\n",
       "      <th>3</th>\n",
       "      <td>Long Beach</td>\n",
       "      <td>5</td>\n",
       "    </tr>\n",
       "    <tr>\n",
       "      <th>4</th>\n",
       "      <td>Pearblossom</td>\n",
       "      <td>4</td>\n",
       "    </tr>\n",
       "    <tr>\n",
       "      <th>5</th>\n",
       "      <td>Antelope Valley</td>\n",
       "      <td>3</td>\n",
       "    </tr>\n",
       "    <tr>\n",
       "      <th>6</th>\n",
       "      <td>Marina Del Rey</td>\n",
       "      <td>2</td>\n",
       "    </tr>\n",
       "    <tr>\n",
       "      <th>7</th>\n",
       "      <td>San Pedro</td>\n",
       "      <td>2</td>\n",
       "    </tr>\n",
       "    <tr>\n",
       "      <th>8</th>\n",
       "      <td>Llano</td>\n",
       "      <td>2</td>\n",
       "    </tr>\n",
       "    <tr>\n",
       "      <th>9</th>\n",
       "      <td>Lake Los Angeles</td>\n",
       "      <td>2</td>\n",
       "    </tr>\n",
       "    <tr>\n",
       "      <th>10</th>\n",
       "      <td>Rancho Palos Verdes</td>\n",
       "      <td>1</td>\n",
       "    </tr>\n",
       "    <tr>\n",
       "      <th>11</th>\n",
       "      <td>Irwindale</td>\n",
       "      <td>1</td>\n",
       "    </tr>\n",
       "    <tr>\n",
       "      <th>12</th>\n",
       "      <td>Tujunga</td>\n",
       "      <td>1</td>\n",
       "    </tr>\n",
       "    <tr>\n",
       "      <th>13</th>\n",
       "      <td>Palmdale</td>\n",
       "      <td>1</td>\n",
       "    </tr>\n",
       "    <tr>\n",
       "      <th>14</th>\n",
       "      <td>Acton</td>\n",
       "      <td>1</td>\n",
       "    </tr>\n",
       "    <tr>\n",
       "      <th>15</th>\n",
       "      <td>South El Monte</td>\n",
       "      <td>1</td>\n",
       "    </tr>\n",
       "    <tr>\n",
       "      <th>16</th>\n",
       "      <td>Rolling Hills Estates</td>\n",
       "      <td>1</td>\n",
       "    </tr>\n",
       "    <tr>\n",
       "      <th>17</th>\n",
       "      <td>Pasadena</td>\n",
       "      <td>1</td>\n",
       "    </tr>\n",
       "    <tr>\n",
       "      <th>18</th>\n",
       "      <td>Fairmont</td>\n",
       "      <td>1</td>\n",
       "    </tr>\n",
       "    <tr>\n",
       "      <th>19</th>\n",
       "      <td>Agua Dulce</td>\n",
       "      <td>1</td>\n",
       "    </tr>\n",
       "    <tr>\n",
       "      <th>20</th>\n",
       "      <td>Arcadia</td>\n",
       "      <td>1</td>\n",
       "    </tr>\n",
       "    <tr>\n",
       "      <th>21</th>\n",
       "      <td>Palos Verdes</td>\n",
       "      <td>1</td>\n",
       "    </tr>\n",
       "    <tr>\n",
       "      <th>22</th>\n",
       "      <td>Avalon</td>\n",
       "      <td>1</td>\n",
       "    </tr>\n",
       "    <tr>\n",
       "      <th>23</th>\n",
       "      <td>Newhall</td>\n",
       "      <td>1</td>\n",
       "    </tr>\n",
       "    <tr>\n",
       "      <th>24</th>\n",
       "      <td>Castaic</td>\n",
       "      <td>1</td>\n",
       "    </tr>\n",
       "    <tr>\n",
       "      <th>25</th>\n",
       "      <td>Lancaster</td>\n",
       "      <td>1</td>\n",
       "    </tr>\n",
       "    <tr>\n",
       "      <th>26</th>\n",
       "      <td>San Dimas</td>\n",
       "      <td>1</td>\n",
       "    </tr>\n",
       "  </tbody>\n",
       "</table>\n",
       "</div>"
      ],
      "text/plain": [
       "                    index  city\n",
       "0                            86\n",
       "1             Los Angeles    38\n",
       "2                  Malibu     6\n",
       "3              Long Beach     5\n",
       "4             Pearblossom     4\n",
       "5         Antelope Valley     3\n",
       "6          Marina Del Rey     2\n",
       "7               San Pedro     2\n",
       "8                   Llano     2\n",
       "9        Lake Los Angeles     2\n",
       "10    Rancho Palos Verdes     1\n",
       "11              Irwindale     1\n",
       "12                Tujunga     1\n",
       "13               Palmdale     1\n",
       "14                  Acton     1\n",
       "15         South El Monte     1\n",
       "16  Rolling Hills Estates     1\n",
       "17               Pasadena     1\n",
       "18               Fairmont     1\n",
       "19             Agua Dulce     1\n",
       "20                Arcadia     1\n",
       "21           Palos Verdes     1\n",
       "22                 Avalon     1\n",
       "23                Newhall     1\n",
       "24                Castaic     1\n",
       "25              Lancaster     1\n",
       "26              San Dimas     1"
      ]
     },
     "execution_count": 71,
     "metadata": {},
     "output_type": "execute_result"
    }
   ],
   "source": [
    "# convert to a data frame\n",
    "city_count = city_count.reset_index()\n",
    "city_count"
   ]
  },
  {
   "cell_type": "markdown",
   "metadata": {},
   "source": [
    "#### Output #8\n",
    "This shows the number of natural areas and wildlife sanctuaries by city, and is displayed in the form of a data frame"
   ]
  },
  {
   "cell_type": "markdown",
   "metadata": {},
   "source": [
    "### Explanation #10\n",
    "Below, I am going to do a very simple plot of the data using the command .plot"
   ]
  },
  {
   "cell_type": "code",
   "execution_count": 72,
   "metadata": {},
   "outputs": [
    {
     "data": {
      "text/plain": [
       "<matplotlib.axes._subplots.AxesSubplot at 0x7f8479e5c130>"
      ]
     },
     "execution_count": 72,
     "metadata": {},
     "output_type": "execute_result"
    },
    {
     "data": {
      "image/png": "[encoded data removed]",
      "text/plain": [
       "<Figure size 432x288 with 1 Axes>"
      ]
     },
     "metadata": {
      "needs_background": "light"
     },
     "output_type": "display_data"
    }
   ],
   "source": [
    "# plot the data\n",
    "city_count.plot.bar()"
   ]
  },
  {
   "cell_type": "markdown",
   "metadata": {},
   "source": [
    "#### Output #9\n",
    "The output of this operation is a bar chart."
   ]
  },
  {
   "cell_type": "markdown",
   "metadata": {},
   "source": [
    "### Explanation #11\n",
    "Below, I will output the original data's info again to see the list of columns and determine which I don't need.\n"
   ]
  },
  {
   "cell_type": "code",
   "execution_count": 73,
   "metadata": {},
   "outputs": [
    {
     "name": "stdout",
     "output_type": "stream",
     "text": [
      "<class 'geopandas.geodataframe.GeoDataFrame'>\n",
      "RangeIndex: 167 entries, 0 to 166\n",
      "Data columns (total 32 columns):\n",
      " #   Column        Non-Null Count  Dtype   \n",
      "---  ------        --------------  -----   \n",
      " 0   X             167 non-null    object  \n",
      " 1   Y             167 non-null    object  \n",
      " 2   OBJECTID      167 non-null    object  \n",
      " 3   source        167 non-null    object  \n",
      " 4   ext_id        167 non-null    object  \n",
      " 5   cat1          167 non-null    object  \n",
      " 6   cat2          167 non-null    object  \n",
      " 7   cat3          167 non-null    object  \n",
      " 8   org_name      167 non-null    object  \n",
      " 9   Name          167 non-null    object  \n",
      " 10  addrln1       167 non-null    object  \n",
      " 11  addrln2       167 non-null    object  \n",
      " 12  city          167 non-null    object  \n",
      " 13  state         167 non-null    object  \n",
      " 14  hours         167 non-null    object  \n",
      " 15  phones        167 non-null    object  \n",
      " 16  url           167 non-null    object  \n",
      " 17  info1         167 non-null    object  \n",
      " 18  info2         167 non-null    object  \n",
      " 19  post_id       167 non-null    object  \n",
      " 20  description   167 non-null    object  \n",
      " 21  zip           167 non-null    object  \n",
      " 22  link          167 non-null    object  \n",
      " 23  use_type      167 non-null    object  \n",
      " 24  latitude      167 non-null    object  \n",
      " 25  longitude     167 non-null    object  \n",
      " 26  date_updated  167 non-null    object  \n",
      " 27  email         167 non-null    object  \n",
      " 28  dis_status    167 non-null    object  \n",
      " 29  POINT_X       167 non-null    object  \n",
      " 30  POINT_Y       167 non-null    object  \n",
      " 31  geometry      0 non-null      geometry\n",
      "dtypes: geometry(1), object(31)\n",
      "memory usage: 41.9+ KB\n"
     ]
    }
   ],
   "source": [
    "# output the original data's info\n",
    "Natural_Areas_and_Wildlife_Sanctuaries.info()"
   ]
  },
  {
   "cell_type": "markdown",
   "metadata": {},
   "source": [
    "### Explanation #12\n",
    "Below I will trim the data to show only the columns I am interested in\n"
   ]
  },
  {
   "cell_type": "code",
   "execution_count": 74,
   "metadata": {},
   "outputs": [
    {
     "data": {
      "text/html": [
       "<div>\n",
       "<style scoped>\n",
       "    .dataframe tbody tr th:only-of-type {\n",
       "        vertical-align: middle;\n",
       "    }\n",
       "\n",
       "    .dataframe tbody tr th {\n",
       "        vertical-align: top;\n",
       "    }\n",
       "\n",
       "    .dataframe thead th {\n",
       "        text-align: right;\n",
       "    }\n",
       "</style>\n",
       "<table border=\"1\" class=\"dataframe\">\n",
       "  <thead>\n",
       "    <tr style=\"text-align: right;\">\n",
       "      <th></th>\n",
       "      <th>Name</th>\n",
       "      <th>city</th>\n",
       "      <th>latitude</th>\n",
       "      <th>longitude</th>\n",
       "    </tr>\n",
       "  </thead>\n",
       "  <tbody>\n",
       "    <tr>\n",
       "      <th>0</th>\n",
       "      <td>White Point - Royal Palms</td>\n",
       "      <td>San Pedro</td>\n",
       "      <td>33.71608515</td>\n",
       "      <td>-118.31803322</td>\n",
       "    </tr>\n",
       "    <tr>\n",
       "      <th>1</th>\n",
       "      <td>Augustus F. Hawkins Natural Park</td>\n",
       "      <td>Los Angeles</td>\n",
       "      <td>33.99014147</td>\n",
       "      <td>-118.24737188</td>\n",
       "    </tr>\n",
       "    <tr>\n",
       "      <th>2</th>\n",
       "      <td>Crestwood Hills Park</td>\n",
       "      <td>Los Angeles</td>\n",
       "      <td>34.076621</td>\n",
       "      <td>-118.488877</td>\n",
       "    </tr>\n",
       "    <tr>\n",
       "      <th>3</th>\n",
       "      <td>Devil's Punchbowl Natural Area</td>\n",
       "      <td>Pearblossom</td>\n",
       "      <td>34.41458505</td>\n",
       "      <td>-117.8597105</td>\n",
       "    </tr>\n",
       "    <tr>\n",
       "      <th>4</th>\n",
       "      <td>Marina Del Rey Visitors Information Center</td>\n",
       "      <td>Marina Del Rey</td>\n",
       "      <td>33.97948845</td>\n",
       "      <td>-118.44019175</td>\n",
       "    </tr>\n",
       "    <tr>\n",
       "      <th>...</th>\n",
       "      <td>...</td>\n",
       "      <td>...</td>\n",
       "      <td>...</td>\n",
       "      <td>...</td>\n",
       "    </tr>\n",
       "    <tr>\n",
       "      <th>162</th>\n",
       "      <td>Neenach Wildlife Preserve</td>\n",
       "      <td>Fairmont</td>\n",
       "      <td>34.71854607</td>\n",
       "      <td>-118.25432539</td>\n",
       "    </tr>\n",
       "    <tr>\n",
       "      <th>163</th>\n",
       "      <td>Theodore Payne Wildlife Sanctuary</td>\n",
       "      <td>Llano</td>\n",
       "      <td>34.52745464</td>\n",
       "      <td>-117.70833492</td>\n",
       "    </tr>\n",
       "    <tr>\n",
       "      <th>164</th>\n",
       "      <td>Phacelia Wildlife Sanctuary</td>\n",
       "      <td>Antelope Valley</td>\n",
       "      <td>34.778872</td>\n",
       "      <td>-117.774266</td>\n",
       "    </tr>\n",
       "    <tr>\n",
       "      <th>165</th>\n",
       "      <td>Tujunga Ponds Wildlife Sanctuary</td>\n",
       "      <td>Tujunga</td>\n",
       "      <td>34.26856059</td>\n",
       "      <td>-118.34050891</td>\n",
       "    </tr>\n",
       "    <tr>\n",
       "      <th>166</th>\n",
       "      <td>Tomeobit Wildlife Sanctuary</td>\n",
       "      <td>Lake Los Angeles</td>\n",
       "      <td>34.60539743</td>\n",
       "      <td>-117.83034662</td>\n",
       "    </tr>\n",
       "  </tbody>\n",
       "</table>\n",
       "<p>167 rows × 4 columns</p>\n",
       "</div>"
      ],
      "text/plain": [
       "                                           Name              city  \\\n",
       "0                     White Point - Royal Palms         San Pedro   \n",
       "1              Augustus F. Hawkins Natural Park       Los Angeles   \n",
       "2                          Crestwood Hills Park       Los Angeles   \n",
       "3                Devil's Punchbowl Natural Area       Pearblossom   \n",
       "4    Marina Del Rey Visitors Information Center    Marina Del Rey   \n",
       "..                                          ...               ...   \n",
       "162                   Neenach Wildlife Preserve          Fairmont   \n",
       "163           Theodore Payne Wildlife Sanctuary             Llano   \n",
       "164                 Phacelia Wildlife Sanctuary   Antelope Valley   \n",
       "165            Tujunga Ponds Wildlife Sanctuary           Tujunga   \n",
       "166                 Tomeobit Wildlife Sanctuary  Lake Los Angeles   \n",
       "\n",
       "        latitude      longitude  \n",
       "0    33.71608515  -118.31803322  \n",
       "1    33.99014147  -118.24737188  \n",
       "2      34.076621    -118.488877  \n",
       "3    34.41458505   -117.8597105  \n",
       "4    33.97948845  -118.44019175  \n",
       "..           ...            ...  \n",
       "162  34.71854607  -118.25432539  \n",
       "163  34.52745464  -117.70833492  \n",
       "164    34.778872    -117.774266  \n",
       "165  34.26856059  -118.34050891  \n",
       "166  34.60539743  -117.83034662  \n",
       "\n",
       "[167 rows x 4 columns]"
      ]
     },
     "execution_count": 74,
     "metadata": {},
     "output_type": "execute_result"
    }
   ],
   "source": [
    "# show a dataset with a subset of columns\n",
    "Natural_Areas_and_Wildlife_Sanctuaries[['Name', 'city', 'latitude', 'longitude', ]]"
   ]
  },
  {
   "cell_type": "markdown",
   "metadata": {},
   "source": [
    "#### Output #10\n",
    "This operation outputs only the columns I included in brackets, thus trimming the data to only what I need "
   ]
  },
  {
   "cell_type": "markdown",
   "metadata": {},
   "source": [
    "### Explanation #13\n",
    "Define the trimmed data frame as a new variable"
   ]
  },
  {
   "cell_type": "code",
   "execution_count": 75,
   "metadata": {},
   "outputs": [
    {
     "data": {
      "text/html": [
       "<div>\n",
       "<style scoped>\n",
       "    .dataframe tbody tr th:only-of-type {\n",
       "        vertical-align: middle;\n",
       "    }\n",
       "\n",
       "    .dataframe tbody tr th {\n",
       "        vertical-align: top;\n",
       "    }\n",
       "\n",
       "    .dataframe thead th {\n",
       "        text-align: right;\n",
       "    }\n",
       "</style>\n",
       "<table border=\"1\" class=\"dataframe\">\n",
       "  <thead>\n",
       "    <tr style=\"text-align: right;\">\n",
       "      <th></th>\n",
       "      <th>Name</th>\n",
       "      <th>city</th>\n",
       "      <th>latitude</th>\n",
       "      <th>longitude</th>\n",
       "    </tr>\n",
       "  </thead>\n",
       "  <tbody>\n",
       "    <tr>\n",
       "      <th>0</th>\n",
       "      <td>White Point - Royal Palms</td>\n",
       "      <td>San Pedro</td>\n",
       "      <td>33.71608515</td>\n",
       "      <td>-118.31803322</td>\n",
       "    </tr>\n",
       "    <tr>\n",
       "      <th>1</th>\n",
       "      <td>Augustus F. Hawkins Natural Park</td>\n",
       "      <td>Los Angeles</td>\n",
       "      <td>33.99014147</td>\n",
       "      <td>-118.24737188</td>\n",
       "    </tr>\n",
       "    <tr>\n",
       "      <th>2</th>\n",
       "      <td>Crestwood Hills Park</td>\n",
       "      <td>Los Angeles</td>\n",
       "      <td>34.076621</td>\n",
       "      <td>-118.488877</td>\n",
       "    </tr>\n",
       "    <tr>\n",
       "      <th>3</th>\n",
       "      <td>Devil's Punchbowl Natural Area</td>\n",
       "      <td>Pearblossom</td>\n",
       "      <td>34.41458505</td>\n",
       "      <td>-117.8597105</td>\n",
       "    </tr>\n",
       "    <tr>\n",
       "      <th>4</th>\n",
       "      <td>Marina Del Rey Visitors Information Center</td>\n",
       "      <td>Marina Del Rey</td>\n",
       "      <td>33.97948845</td>\n",
       "      <td>-118.44019175</td>\n",
       "    </tr>\n",
       "    <tr>\n",
       "      <th>...</th>\n",
       "      <td>...</td>\n",
       "      <td>...</td>\n",
       "      <td>...</td>\n",
       "      <td>...</td>\n",
       "    </tr>\n",
       "    <tr>\n",
       "      <th>162</th>\n",
       "      <td>Neenach Wildlife Preserve</td>\n",
       "      <td>Fairmont</td>\n",
       "      <td>34.71854607</td>\n",
       "      <td>-118.25432539</td>\n",
       "    </tr>\n",
       "    <tr>\n",
       "      <th>163</th>\n",
       "      <td>Theodore Payne Wildlife Sanctuary</td>\n",
       "      <td>Llano</td>\n",
       "      <td>34.52745464</td>\n",
       "      <td>-117.70833492</td>\n",
       "    </tr>\n",
       "    <tr>\n",
       "      <th>164</th>\n",
       "      <td>Phacelia Wildlife Sanctuary</td>\n",
       "      <td>Antelope Valley</td>\n",
       "      <td>34.778872</td>\n",
       "      <td>-117.774266</td>\n",
       "    </tr>\n",
       "    <tr>\n",
       "      <th>165</th>\n",
       "      <td>Tujunga Ponds Wildlife Sanctuary</td>\n",
       "      <td>Tujunga</td>\n",
       "      <td>34.26856059</td>\n",
       "      <td>-118.34050891</td>\n",
       "    </tr>\n",
       "    <tr>\n",
       "      <th>166</th>\n",
       "      <td>Tomeobit Wildlife Sanctuary</td>\n",
       "      <td>Lake Los Angeles</td>\n",
       "      <td>34.60539743</td>\n",
       "      <td>-117.83034662</td>\n",
       "    </tr>\n",
       "  </tbody>\n",
       "</table>\n",
       "<p>167 rows × 4 columns</p>\n",
       "</div>"
      ],
      "text/plain": [
       "                                           Name              city  \\\n",
       "0                     White Point - Royal Palms         San Pedro   \n",
       "1              Augustus F. Hawkins Natural Park       Los Angeles   \n",
       "2                          Crestwood Hills Park       Los Angeles   \n",
       "3                Devil's Punchbowl Natural Area       Pearblossom   \n",
       "4    Marina Del Rey Visitors Information Center    Marina Del Rey   \n",
       "..                                          ...               ...   \n",
       "162                   Neenach Wildlife Preserve          Fairmont   \n",
       "163           Theodore Payne Wildlife Sanctuary             Llano   \n",
       "164                 Phacelia Wildlife Sanctuary   Antelope Valley   \n",
       "165            Tujunga Ponds Wildlife Sanctuary           Tujunga   \n",
       "166                 Tomeobit Wildlife Sanctuary  Lake Los Angeles   \n",
       "\n",
       "        latitude      longitude  \n",
       "0    33.71608515  -118.31803322  \n",
       "1    33.99014147  -118.24737188  \n",
       "2      34.076621    -118.488877  \n",
       "3    34.41458505   -117.8597105  \n",
       "4    33.97948845  -118.44019175  \n",
       "..           ...            ...  \n",
       "162  34.71854607  -118.25432539  \n",
       "163  34.52745464  -117.70833492  \n",
       "164    34.778872    -117.774266  \n",
       "165  34.26856059  -118.34050891  \n",
       "166  34.60539743  -117.83034662  \n",
       "\n",
       "[167 rows x 4 columns]"
      ]
     },
     "execution_count": 75,
     "metadata": {},
     "output_type": "execute_result"
    }
   ],
   "source": [
    "# define the trimmed dataset\n",
    "Natural_Areas_and_Wildlife_Sanctuaries_trimmed = Natural_Areas_and_Wildlife_Sanctuaries[['Name', 'city', 'latitude', 'longitude', ]].copy()\n",
    "Natural_Areas_and_Wildlife_Sanctuaries_trimmed"
   ]
  },
  {
   "cell_type": "markdown",
   "metadata": {},
   "source": [
    "#### Output #11\n",
    "The output is a new data frame under a new variable titled Natural_Areas_and_Wildlife_Sanctuaries_trimmed, and it includes the desired columns only. "
   ]
  },
  {
   "cell_type": "markdown",
   "metadata": {},
   "source": [
    "### Explanation #14\n",
    "Below I will run a query on the data in order to filter it / see a subset. "
   ]
  },
  {
   "cell_type": "code",
   "execution_count": 76,
   "metadata": {},
   "outputs": [
    {
     "data": {
      "text/html": [
       "<div>\n",
       "<style scoped>\n",
       "    .dataframe tbody tr th:only-of-type {\n",
       "        vertical-align: middle;\n",
       "    }\n",
       "\n",
       "    .dataframe tbody tr th {\n",
       "        vertical-align: top;\n",
       "    }\n",
       "\n",
       "    .dataframe thead th {\n",
       "        text-align: right;\n",
       "    }\n",
       "</style>\n",
       "<table border=\"1\" class=\"dataframe\">\n",
       "  <thead>\n",
       "    <tr style=\"text-align: right;\">\n",
       "      <th></th>\n",
       "      <th>Name</th>\n",
       "      <th>city</th>\n",
       "      <th>latitude</th>\n",
       "      <th>longitude</th>\n",
       "    </tr>\n",
       "  </thead>\n",
       "  <tbody>\n",
       "    <tr>\n",
       "      <th>157</th>\n",
       "      <td>Desert Pines Sanctuary</td>\n",
       "      <td>Antelope Valley</td>\n",
       "      <td>34.73840334</td>\n",
       "      <td>-118.49199057</td>\n",
       "    </tr>\n",
       "    <tr>\n",
       "      <th>158</th>\n",
       "      <td>Gerhardy Wildlife Sanctuary, Carl O.</td>\n",
       "      <td>Antelope Valley</td>\n",
       "      <td>34.63115985</td>\n",
       "      <td>-117.70271301</td>\n",
       "    </tr>\n",
       "    <tr>\n",
       "      <th>164</th>\n",
       "      <td>Phacelia Wildlife Sanctuary</td>\n",
       "      <td>Antelope Valley</td>\n",
       "      <td>34.778872</td>\n",
       "      <td>-117.774266</td>\n",
       "    </tr>\n",
       "  </tbody>\n",
       "</table>\n",
       "</div>"
      ],
      "text/plain": [
       "                                     Name             city     latitude  \\\n",
       "157                Desert Pines Sanctuary  Antelope Valley  34.73840334   \n",
       "158  Gerhardy Wildlife Sanctuary, Carl O.  Antelope Valley  34.63115985   \n",
       "164           Phacelia Wildlife Sanctuary  Antelope Valley    34.778872   \n",
       "\n",
       "         longitude  \n",
       "157  -118.49199057  \n",
       "158  -117.70271301  \n",
       "164    -117.774266  "
      ]
     },
     "execution_count": 76,
     "metadata": {},
     "output_type": "execute_result"
    }
   ],
   "source": [
    "# query the data\n",
    "Natural_Areas_and_Wildlife_Sanctuaries_trimmed[Natural_Areas_and_Wildlife_Sanctuaries_trimmed.city == 'Antelope Valley']"
   ]
  },
  {
   "cell_type": "markdown",
   "metadata": {},
   "source": [
    "#### Output #12\n",
    "The output shows the filtered data of a specific city, Antelope Valley, and its natural areas and wildlife sanctuaries and their latitude and longitude. "
   ]
  }
 ],
 "metadata": {
  "kernelspec": {
   "display_name": "Python 3",
   "language": "python",
   "name": "python3"
  },
  "language_info": {
   "codemirror_mode": {
    "name": "ipython",
    "version": 3
   },
   "file_extension": ".py",
   "mimetype": "text/x-python",
   "name": "python",
   "nbconvert_exporter": "python",
   "pygments_lexer": "ipython3",
   "version": "3.8.5"
  },
  "toc": {
   "base_numbering": 1,
   "nav_menu": {},
   "number_sections": true,
   "sideBar": true,
   "skip_h1_title": false,
   "title_cell": "Table of Contents",
   "title_sidebar": "Contents",
   "toc_cell": false,
   "toc_position": {},
   "toc_section_display": true,
   "toc_window_display": false
  }
 },
 "nbformat": 4,
 "nbformat_minor": 4
}
